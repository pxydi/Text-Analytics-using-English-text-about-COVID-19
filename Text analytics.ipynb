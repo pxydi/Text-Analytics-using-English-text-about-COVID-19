{
 "cells": [
  {
   "cell_type": "markdown",
   "metadata": {},
   "source": [
    "# Text Analytics\n",
    "\n",
    "In this notebook, I will look at different techniques for getting insights from text data. After applying common preprocessing steps for text data, I will explore different tools for extracting information about the content of text documents. First, I will look at word frequencies and then detect word combinations that frequently appear together. Next, I will look at weighted word frequencies according to the tf-idf model. This model provides more informative statistics about key terms in a given document in the dataset compared to plain word frequencies. \n",
    "\n",
    "We will work with publicly available [press releases by the Swiss Federal Council](https://www.admin.ch/gov/en/start/documentation/media-releases/media-releases-federal-council.html?dyn_startDate=01.01.2015) about the Coronavirus 2019 epidemic. \n",
    "\n",
    "## A first look at the data\n",
    "\n",
    "I will start by loading the data in a dataframe."
   ]
  },
  {
   "cell_type": "code",
   "execution_count": 1,
   "metadata": {},
   "outputs": [],
   "source": [
    "# Import libraries\n",
    "\n",
    "import os\n",
    "import pandas as pd\n",
    "import numpy as np\n",
    "import matplotlib.pyplot as plt\n",
    "from   collections import defaultdict\n",
    "\n",
    "%matplotlib inline\n",
    "%config InlineBackend.figure_format = 'retina'"
   ]
  },
  {
   "cell_type": "code",
   "execution_count": 2,
   "metadata": {},
   "outputs": [
    {
     "name": "stdout",
     "output_type": "stream",
     "text": [
      "Data shape:  (61, 4)\n"
     ]
    }
   ],
   "source": [
    "# Path to the data\n",
    "PATH_DATA = os.path.join('./data/press_releases_covid19.csv')\n",
    "\n",
    "# Load press releases\n",
    "df = pd.read_csv(PATH_DATA)\n",
    "\n",
    "print('Data shape: ',df.shape)"
   ]
  },
  {
   "cell_type": "markdown",
   "metadata": {},
   "source": [
    "Let's print a few samples from the data."
   ]
  },
  {
   "cell_type": "code",
   "execution_count": 3,
   "metadata": {},
   "outputs": [
    {
     "data": {
      "text/html": [
       "<div>\n",
       "<style scoped>\n",
       "    .dataframe tbody tr th:only-of-type {\n",
       "        vertical-align: middle;\n",
       "    }\n",
       "\n",
       "    .dataframe tbody tr th {\n",
       "        vertical-align: top;\n",
       "    }\n",
       "\n",
       "    .dataframe thead th {\n",
       "        text-align: right;\n",
       "    }\n",
       "</style>\n",
       "<table border=\"1\" class=\"dataframe\">\n",
       "  <thead>\n",
       "    <tr style=\"text-align: right;\">\n",
       "      <th></th>\n",
       "      <th>title</th>\n",
       "      <th>url</th>\n",
       "      <th>pub_date</th>\n",
       "      <th>text</th>\n",
       "    </tr>\n",
       "  </thead>\n",
       "  <tbody>\n",
       "    <tr>\n",
       "      <th>12</th>\n",
       "      <td>Coronavirus: Federal Council to ease further measures from 11 May</td>\n",
       "      <td>https://www.admin.ch/gov/en/start/documentation/media-releases.msg-id-78948.html</td>\n",
       "      <td>2020-04-29</td>\n",
       "      <td>Bern, 29.04.2020 - At its meeting on 29 April, the Federal Council decided to further ease the measures introduced to protect the population against the coronavirus. From Monday, 11 May, shops, restaurants markets, museums and libraries will be allowed to reopen, classes can be held again in primary and lower secondary schools, and sports training sessions will be allowed. There will be a significant increase in scheduled public transport services. This year baccalaureate examination grades ...</td>\n",
       "    </tr>\n",
       "    <tr>\n",
       "      <th>59</th>\n",
       "      <td>Coronavirus: Federal Council decides to maintain protective measures and calls on the public to get vaccinated</td>\n",
       "      <td>https://www.admin.ch/gov/en/start/documentation/media-releases.msg-id-84676.html</td>\n",
       "      <td>2021-08-11</td>\n",
       "      <td>Bern, 11.08.2021 - At its meeting on 11 August, the Federal Council decided to maintain the measures that are still in place. However, this is designed to safeguard hospital capacity rather than protect the unvaccinated. A return to normality requires a massive increase in the number of people getting vaccinated. The current testing strategy, which is considered a key element of the response to the pandemic, is to be continued. From 1 October, tests for people without symptoms will no longer...</td>\n",
       "    </tr>\n",
       "    <tr>\n",
       "      <th>24</th>\n",
       "      <td>Coronavirus: Federal government to assume test costs, SwissCovid app to start on 25 June</td>\n",
       "      <td>https://www.admin.ch/gov/en/start/documentation/media-releases.msg-id-79584.html</td>\n",
       "      <td>2020-06-24</td>\n",
       "      <td>Bern, 24.06.2020 - In order to be able to respond rapidly to a renewed increase in the number of cases, testing should be conducted as widely as is possible and appropriate. As of 25 June, the federal government will therefore be assuming the cost of all coronavirus tests. That was the decision taken by the Federal Council at its meeting on 24 June. It also adopted the Ordinance on the Proximity Tracing System for the Coronavirus. This will make it possible to for the SwissCovid app to be us...</td>\n",
       "    </tr>\n",
       "  </tbody>\n",
       "</table>\n",
       "</div>"
      ],
      "text/plain": [
       "                                                                                                             title  \\\n",
       "12                                               Coronavirus: Federal Council to ease further measures from 11 May   \n",
       "59  Coronavirus: Federal Council decides to maintain protective measures and calls on the public to get vaccinated   \n",
       "24                        Coronavirus: Federal government to assume test costs, SwissCovid app to start on 25 June   \n",
       "\n",
       "                                                                                 url  \\\n",
       "12  https://www.admin.ch/gov/en/start/documentation/media-releases.msg-id-78948.html   \n",
       "59  https://www.admin.ch/gov/en/start/documentation/media-releases.msg-id-84676.html   \n",
       "24  https://www.admin.ch/gov/en/start/documentation/media-releases.msg-id-79584.html   \n",
       "\n",
       "      pub_date  \\\n",
       "12  2020-04-29   \n",
       "59  2021-08-11   \n",
       "24  2020-06-24   \n",
       "\n",
       "                                                                                                                                                                                                                                                                                                                                                                                                                                                                                                                   text  \n",
       "12  Bern, 29.04.2020 - At its meeting on 29 April, the Federal Council decided to further ease the measures introduced to protect the population against the coronavirus. From Monday, 11 May, shops, restaurants markets, museums and libraries will be allowed to reopen, classes can be held again in primary and lower secondary schools, and sports training sessions will be allowed. There will be a significant increase in scheduled public transport services. This year baccalaureate examination grades ...  \n",
       "59  Bern, 11.08.2021 - At its meeting on 11 August, the Federal Council decided to maintain the measures that are still in place. However, this is designed to safeguard hospital capacity rather than protect the unvaccinated. A return to normality requires a massive increase in the number of people getting vaccinated. The current testing strategy, which is considered a key element of the response to the pandemic, is to be continued. From 1 October, tests for people without symptoms will no longer...  \n",
       "24  Bern, 24.06.2020 - In order to be able to respond rapidly to a renewed increase in the number of cases, testing should be conducted as widely as is possible and appropriate. As of 25 June, the federal government will therefore be assuming the cost of all coronavirus tests. That was the decision taken by the Federal Council at its meeting on 24 June. It also adopted the Ordinance on the Proximity Tracing System for the Coronavirus. This will make it possible to for the SwissCovid app to be us...  "
      ]
     },
     "metadata": {},
     "output_type": "display_data"
    }
   ],
   "source": [
    "# Print a few samples\n",
    "\n",
    "with pd.option_context('display.max_colwidth', 500):\n",
    "    display(df.sample(3))"
   ]
  },
  {
   "cell_type": "markdown",
   "metadata": {},
   "source": [
    "As we see, for each press release, we have the title, the URL, the publication date, and the text of the press release. Below, we drop the `url` column as we will not use it for the rest of our analysis."
   ]
  },
  {
   "cell_type": "code",
   "execution_count": 4,
   "metadata": {},
   "outputs": [
    {
     "name": "stdout",
     "output_type": "stream",
     "text": [
      "Data shape:  (61, 3)\n"
     ]
    }
   ],
   "source": [
    "# Remove 'url' column\n",
    "\n",
    "df.drop(labels = ['url'],    # specify which columns to drop\n",
    "        axis=1,              # drops labels from the columns\n",
    "        inplace=True         # apply changes to the original df\n",
    "       )\n",
    "\n",
    "# Print data shape\n",
    "print('Data shape: ',df.shape)"
   ]
  },
  {
   "cell_type": "code",
   "execution_count": 5,
   "metadata": {},
   "outputs": [
    {
     "data": {
      "text/html": [
       "<div>\n",
       "<style scoped>\n",
       "    .dataframe tbody tr th:only-of-type {\n",
       "        vertical-align: middle;\n",
       "    }\n",
       "\n",
       "    .dataframe tbody tr th {\n",
       "        vertical-align: top;\n",
       "    }\n",
       "\n",
       "    .dataframe thead th {\n",
       "        text-align: right;\n",
       "    }\n",
       "</style>\n",
       "<table border=\"1\" class=\"dataframe\">\n",
       "  <thead>\n",
       "    <tr style=\"text-align: right;\">\n",
       "      <th></th>\n",
       "      <th>title</th>\n",
       "      <th>pub_date</th>\n",
       "      <th>text</th>\n",
       "    </tr>\n",
       "  </thead>\n",
       "  <tbody>\n",
       "    <tr>\n",
       "      <th>25</th>\n",
       "      <td>Coronavirus: Emergency ordinance on COVID-19 c...</td>\n",
       "      <td>2020-07-01</td>\n",
       "      <td>Bern, 01.07.2020 - During its meeting on 1 Jul...</td>\n",
       "    </tr>\n",
       "    <tr>\n",
       "      <th>26</th>\n",
       "      <td>Coronavirus: Federal Council releases guarante...</td>\n",
       "      <td>2020-07-01</td>\n",
       "      <td>Bern, 01.07.2020 - During its meeting on 1 Jul...</td>\n",
       "    </tr>\n",
       "    <tr>\n",
       "      <th>43</th>\n",
       "      <td>Coronavirus: Federal Council extends and tight...</td>\n",
       "      <td>2021-01-13</td>\n",
       "      <td>Bern, 13.01.2021 - Case numbers are stagnating...</td>\n",
       "    </tr>\n",
       "  </tbody>\n",
       "</table>\n",
       "</div>"
      ],
      "text/plain": [
       "                                                title    pub_date  \\\n",
       "25  Coronavirus: Emergency ordinance on COVID-19 c...  2020-07-01   \n",
       "26  Coronavirus: Federal Council releases guarante...  2020-07-01   \n",
       "43  Coronavirus: Federal Council extends and tight...  2021-01-13   \n",
       "\n",
       "                                                 text  \n",
       "25  Bern, 01.07.2020 - During its meeting on 1 Jul...  \n",
       "26  Bern, 01.07.2020 - During its meeting on 1 Jul...  \n",
       "43  Bern, 13.01.2021 - Case numbers are stagnating...  "
      ]
     },
     "execution_count": 5,
     "metadata": {},
     "output_type": "execute_result"
    }
   ],
   "source": [
    "# Show a few samples\n",
    "df.sample(3)"
   ]
  },
  {
   "cell_type": "markdown",
   "metadata": {},
   "source": [
    "Our corpus has 61 documents. Below we check the data for duplicated entries and missing values."
   ]
  },
  {
   "cell_type": "code",
   "execution_count": 6,
   "metadata": {},
   "outputs": [
    {
     "name": "stdout",
     "output_type": "stream",
     "text": [
      "Found 0 duplicated entries.\n"
     ]
    }
   ],
   "source": [
    "# Check for duplicated entries\n",
    "\n",
    "print('Found {} duplicated entries.'.format(df.duplicated().sum()))"
   ]
  },
  {
   "cell_type": "code",
   "execution_count": 7,
   "metadata": {},
   "outputs": [
    {
     "name": "stdout",
     "output_type": "stream",
     "text": [
      "<class 'pandas.core.frame.DataFrame'>\n",
      "RangeIndex: 61 entries, 0 to 60\n",
      "Data columns (total 3 columns):\n",
      " #   Column    Non-Null Count  Dtype \n",
      "---  ------    --------------  ----- \n",
      " 0   title     61 non-null     object\n",
      " 1   pub_date  61 non-null     object\n",
      " 2   text      61 non-null     object\n",
      "dtypes: object(3)\n",
      "memory usage: 1.6+ KB\n"
     ]
    }
   ],
   "source": [
    "# Check for missing values\n",
    "\n",
    "df.info()"
   ]
  },
  {
   "cell_type": "markdown",
   "metadata": {},
   "source": [
    "I used the `info` method, which prints information about data types, missing values, and memory usage. As we see, there aren't any missing values in the data. However, the data type of column `pub_date` is `object`. Below, I convert it to `datetime`."
   ]
  },
  {
   "cell_type": "code",
   "execution_count": 8,
   "metadata": {},
   "outputs": [
    {
     "name": "stdout",
     "output_type": "stream",
     "text": [
      "<class 'pandas.core.frame.DataFrame'>\n",
      "RangeIndex: 61 entries, 0 to 60\n",
      "Data columns (total 3 columns):\n",
      " #   Column    Non-Null Count  Dtype         \n",
      "---  ------    --------------  -----         \n",
      " 0   title     61 non-null     object        \n",
      " 1   pub_date  61 non-null     datetime64[ns]\n",
      " 2   text      61 non-null     object        \n",
      "dtypes: datetime64[ns](1), object(2)\n",
      "memory usage: 1.6+ KB\n"
     ]
    }
   ],
   "source": [
    "# Convert pub_date to datetime dtype\n",
    "\n",
    "df['pub_date'] = pd.to_datetime(df.pub_date)\n",
    "\n",
    "# Check data types again\n",
    "df.info()"
   ]
  },
  {
   "cell_type": "markdown",
   "metadata": {},
   "source": [
    "I converted the column `pub_date` to `datetime`. Below, I see that the earliest press release is from February 28, 2020, and the last one from August 18, 2021."
   ]
  },
  {
   "cell_type": "code",
   "execution_count": 9,
   "metadata": {},
   "outputs": [
    {
     "data": {
      "text/plain": [
       "Timestamp('2020-02-28 00:00:00')"
      ]
     },
     "execution_count": 9,
     "metadata": {},
     "output_type": "execute_result"
    }
   ],
   "source": [
    "# Print earliest publication date\n",
    "\n",
    "df['pub_date'].min()"
   ]
  },
  {
   "cell_type": "code",
   "execution_count": 10,
   "metadata": {},
   "outputs": [
    {
     "data": {
      "text/plain": [
       "Timestamp('2021-08-18 00:00:00')"
      ]
     },
     "execution_count": 10,
     "metadata": {},
     "output_type": "execute_result"
    }
   ],
   "source": [
    "# Print latest publication date\n",
    "\n",
    "df['pub_date'].max()"
   ]
  },
  {
   "cell_type": "markdown",
   "metadata": {},
   "source": [
    "## Text length"
   ]
  },
  {
   "cell_type": "markdown",
   "metadata": {},
   "source": [
    "You may be wondering about the length of the press releases. Do they all use the same number of words or characters?\n",
    "\n",
    "Let's look at the first press release."
   ]
  },
  {
   "cell_type": "code",
   "execution_count": 11,
   "metadata": {},
   "outputs": [
    {
     "name": "stdout",
     "output_type": "stream",
     "text": [
      "Bern, 28.02.2020 - An extraordinary meeting of the Federal Council was held today, 28 February. In view of the current situation and the spread of the coronavirus, the Federal Council has categorised the situation in Switzerland as ‘special’ in terms of the Epidemics Act. Large-scale events involving more than 1000 people are to be banned. The ban comes into immediate effect and will apply at least until 15 March. The Federal Council's top priority is to protect the population. It is responding to the latest developments in the coronavirus epidemic and has categorised the situation in Switzerland as ‘special' in terms of the Epidemics Act. This enables the Federal Council, in consultation with the cantons, to order measures that are normally the responsibility of the cantons.The Federal Council is banning public and private events in Switzerland at which more than 1000 people would gather. This ban on events comes into immediate effect and will apply at least until 15 March. The cantons are responsible for enforcing the ban.In the case of public or private events at which fewer than 1000 people would gather, event organisers must carry out a risk assessment in conjunction with the competent cantonal authorities to decide whether or not the event can be held.The Federal Council is aware that this measure will have a significant impact on public life in Switzerland. However, the move is expected to provide effective protection to people in Switzerland and to public health. It should prevent or delay the spread of the disease in Switzerland, thus reducing its momentum. The Federal Council's top priority is to protect the population. It is responding to the latest developments in the coronavirus epidemic and has categorised the situation in Switzerland as ‘special' in terms of the Epidemics Act. This enables the Federal Council, in consultation with the cantons, to order measures that are normally the responsibility of the cantons. The Federal Council is banning public and private events in Switzerland at which more than 1000 people would gather. This ban on events comes into immediate effect and will apply at least until 15 March. The cantons are responsible for enforcing the ban. In the case of public or private events at which fewer than 1000 people would gather, event organisers must carry out a risk assessment in conjunction with the competent cantonal authorities to decide whether or not the event can be held. The Federal Council is aware that this measure will have a significant impact on public life in Switzerland. However, the move is expected to provide effective protection to people in Switzerland and to public health. It should prevent or delay the spread of the disease in Switzerland, thus reducing its momentum.\n"
     ]
    }
   ],
   "source": [
    "print(df['text'][0])"
   ]
  },
  {
   "cell_type": "markdown",
   "metadata": {},
   "source": [
    "I will start by splitting this document on whitespace using the split function."
   ]
  },
  {
   "cell_type": "code",
   "execution_count": 12,
   "metadata": {},
   "outputs": [
    {
     "name": "stdout",
     "output_type": "stream",
     "text": [
      "['Bern,', '28.02.2020', '-', 'An', 'extraordinary', 'meeting', 'of', 'the', 'Federal', 'Council', 'was', 'held', 'today,', '28', 'February.', 'In', 'view', 'of', 'the', 'current', 'situation', 'and', 'the', 'spread', 'of', 'the', 'coronavirus,', 'the', 'Federal', 'Council', 'has', 'categorised', 'the', 'situation', 'in', 'Switzerland', 'as', '‘special’', 'in', 'terms', 'of', 'the', 'Epidemics', 'Act.', 'Large-scale', 'events', 'involving', 'more', 'than', '1000', 'people', 'are', 'to', 'be', 'banned.', 'The', 'ban', 'comes', 'into', 'immediate', 'effect', 'and', 'will', 'apply', 'at', 'least', 'until', '15', 'March.', 'The', 'Federal', \"Council's\", 'top', 'priority', 'is', 'to', 'protect', 'the', 'population.', 'It', 'is', 'responding', 'to', 'the', 'latest', 'developments', 'in', 'the', 'coronavirus', 'epidemic', 'and', 'has', 'categorised', 'the', 'situation', 'in', 'Switzerland', 'as', \"‘special'\", 'in', 'terms', 'of', 'the', 'Epidemics', 'Act.', 'This', 'enables', 'the', 'Federal', 'Council,', 'in', 'consultation', 'with', 'the', 'cantons,', 'to', 'order', 'measures', 'that', 'are', 'normally', 'the', 'responsibility', 'of', 'the', 'cantons.The', 'Federal', 'Council', 'is', 'banning', 'public', 'and', 'private', 'events', 'in', 'Switzerland', 'at', 'which', 'more', 'than', '1000', 'people', 'would', 'gather.', 'This', 'ban', 'on', 'events', 'comes', 'into', 'immediate', 'effect', 'and', 'will', 'apply', 'at', 'least', 'until', '15', 'March.', 'The', 'cantons', 'are', 'responsible', 'for', 'enforcing', 'the', 'ban.In', 'the', 'case', 'of', 'public', 'or', 'private', 'events', 'at', 'which', 'fewer', 'than', '1000', 'people', 'would', 'gather,', 'event', 'organisers', 'must', 'carry', 'out', 'a', 'risk', 'assessment', 'in', 'conjunction', 'with', 'the', 'competent', 'cantonal', 'authorities', 'to', 'decide', 'whether', 'or', 'not', 'the', 'event', 'can', 'be', 'held.The', 'Federal', 'Council', 'is', 'aware', 'that', 'this', 'measure', 'will', 'have', 'a', 'significant', 'impact', 'on', 'public', 'life', 'in', 'Switzerland.', 'However,', 'the', 'move', 'is', 'expected', 'to', 'provide', 'effective', 'protection', 'to', 'people', 'in', 'Switzerland', 'and', 'to', 'public', 'health.', 'It', 'should', 'prevent', 'or', 'delay', 'the', 'spread', 'of', 'the', 'disease', 'in', 'Switzerland,', 'thus', 'reducing', 'its', 'momentum.', 'The', 'Federal', \"Council's\", 'top', 'priority', 'is', 'to', 'protect', 'the', 'population.', 'It', 'is', 'responding', 'to', 'the', 'latest', 'developments', 'in', 'the', 'coronavirus', 'epidemic', 'and', 'has', 'categorised', 'the', 'situation', 'in', 'Switzerland', 'as', \"‘special'\", 'in', 'terms', 'of', 'the', 'Epidemics', 'Act.', 'This', 'enables', 'the', 'Federal', 'Council,', 'in', 'consultation', 'with', 'the', 'cantons,', 'to', 'order', 'measures', 'that', 'are', 'normally', 'the', 'responsibility', 'of', 'the', 'cantons.', 'The', 'Federal', 'Council', 'is', 'banning', 'public', 'and', 'private', 'events', 'in', 'Switzerland', 'at', 'which', 'more', 'than', '1000', 'people', 'would', 'gather.', 'This', 'ban', 'on', 'events', 'comes', 'into', 'immediate', 'effect', 'and', 'will', 'apply', 'at', 'least', 'until', '15', 'March.', 'The', 'cantons', 'are', 'responsible', 'for', 'enforcing', 'the', 'ban.', 'In', 'the', 'case', 'of', 'public', 'or', 'private', 'events', 'at', 'which', 'fewer', 'than', '1000', 'people', 'would', 'gather,', 'event', 'organisers', 'must', 'carry', 'out', 'a', 'risk', 'assessment', 'in', 'conjunction', 'with', 'the', 'competent', 'cantonal', 'authorities', 'to', 'decide', 'whether', 'or', 'not', 'the', 'event', 'can', 'be', 'held.', 'The', 'Federal', 'Council', 'is', 'aware', 'that', 'this', 'measure', 'will', 'have', 'a', 'significant', 'impact', 'on', 'public', 'life', 'in', 'Switzerland.', 'However,', 'the', 'move', 'is', 'expected', 'to', 'provide', 'effective', 'protection', 'to', 'people', 'in', 'Switzerland', 'and', 'to', 'public', 'health.', 'It', 'should', 'prevent', 'or', 'delay', 'the', 'spread', 'of', 'the', 'disease', 'in', 'Switzerland,', 'thus', 'reducing', 'its', 'momentum.']\n"
     ]
    }
   ],
   "source": [
    "# Split document on whitespace\n",
    "\n",
    "print(df['text'][0].split())"
   ]
  },
  {
   "cell_type": "markdown",
   "metadata": {},
   "source": [
    "Splitting our document on whitespace has produced a list of tokens such as words, dates, numbers, and special characters. We can count the number of tokens in our document using the `len` function."
   ]
  },
  {
   "cell_type": "code",
   "execution_count": 13,
   "metadata": {},
   "outputs": [
    {
     "data": {
      "text/plain": [
       "450"
      ]
     },
     "execution_count": 13,
     "metadata": {},
     "output_type": "execute_result"
    }
   ],
   "source": [
    "# Count the number of tokens in document\n",
    "len(df['text'][0].split())"
   ]
  },
  {
   "cell_type": "markdown",
   "metadata": {},
   "source": [
    "This particular document has 450 tokens (words, dates, etc.). What about the other press releases?\n",
    "\n",
    "In a previous unit, we saw that we could use the `apply` function to apply a given function to all of the elements of a column in a dataframe. In the next cell, we use the `apply` function to count the number of tokens in each press release. "
   ]
  },
  {
   "cell_type": "code",
   "execution_count": 14,
   "metadata": {},
   "outputs": [
    {
     "data": {
      "text/plain": [
       "0      450\n",
       "1     1982\n",
       "2     1393\n",
       "3      518\n",
       "4      997\n",
       "      ... \n",
       "56     983\n",
       "57     105\n",
       "58    2821\n",
       "59    1675\n",
       "60     534\n",
       "Name: text, Length: 61, dtype: int64"
      ]
     },
     "execution_count": 14,
     "metadata": {},
     "output_type": "execute_result"
    }
   ],
   "source": [
    "df['text'].apply(lambda x: len(x.split()))"
   ]
  },
  {
   "cell_type": "markdown",
   "metadata": {},
   "source": [
    "This returns the number of tokens in each press release. The following plot shows the distribution of token counts in all of the press releases."
   ]
  },
  {
   "cell_type": "code",
   "execution_count": 15,
   "metadata": {},
   "outputs": [
    {
     "data": {
      "image/png": "[encoded data removed]",
      "text/plain": [
       "<Figure size 576x288 with 1 Axes>"
      ]
     },
     "metadata": {
      "image/png": {
       "height": 283,
       "width": 496
      },
      "needs_background": "light"
     },
     "output_type": "display_data"
    }
   ],
   "source": [
    "# Plot the number of tokens per press release\n",
    "\n",
    "# Barplot and font specifications\n",
    "barplot_specs = {\"color\": \"mediumpurple\", \"alpha\": 0.7, \"edgecolor\": \"grey\"}\n",
    "label_specs   = {\"fontsize\": 12}\n",
    "title_specs   = {\"fontsize\": 14, \"fontweight\": \"bold\", \"y\": 1.01}\n",
    "\n",
    "plt.figure(figsize=(8,4))\n",
    "\n",
    "plt.hist(df['text'].apply(lambda x:len(x.split())), **barplot_specs)\n",
    "plt.xlabel('Nbr of tokens', **label_specs)\n",
    "plt.ylabel('Nbr of press releases',**label_specs)\n",
    "plt.title('Distribution of token counts in press releases',**title_specs)\n",
    "plt.show()"
   ]
  },
  {
   "cell_type": "markdown",
   "metadata": {},
   "source": [
    "Below we use the `describe` method to get descriptive statistics for token counts in press releases."
   ]
  },
  {
   "cell_type": "code",
   "execution_count": 16,
   "metadata": {},
   "outputs": [
    {
     "data": {
      "text/plain": [
       "count      61.000000\n",
       "mean     1287.098361\n",
       "std       800.633597\n",
       "min        66.000000\n",
       "25%       752.000000\n",
       "50%      1132.000000\n",
       "75%      1706.000000\n",
       "max      3658.000000\n",
       "Name: text, dtype: float64"
      ]
     },
     "execution_count": 16,
     "metadata": {},
     "output_type": "execute_result"
    }
   ],
   "source": [
    "df['text'].apply(lambda x: len(x.split())).describe()"
   ]
  },
  {
   "cell_type": "markdown",
   "metadata": {},
   "source": [
    "The shortest press release has 66 tokens, and the longest has 3'658 tokens. The median number of tokens per press release is 1'132."
   ]
  },
  {
   "cell_type": "markdown",
   "metadata": {},
   "source": [
    "## Word frequencies"
   ]
  },
  {
   "cell_type": "markdown",
   "metadata": {},
   "source": [
    "Now, we would like to know a bit more about what each press release is about. One way to answer this question would be to look at the most frequent tokens in each press release. Tokens that are mentioned several times in a text may reveal some information about the content of each press release.\n",
    "\n",
    "Let's start with at an example of a press release from the data."
   ]
  },
  {
   "cell_type": "code",
   "execution_count": 17,
   "metadata": {},
   "outputs": [
    {
     "name": "stdout",
     "output_type": "stream",
     "text": [
      "Bern, 28.02.2020 - An extraordinary meeting of the Federal Council was held today, 28 February. In view of the current situation and the spread of the coronavirus, the Federal Council has categorised the situation in Switzerland as ‘special’ in terms of the Epidemics Act. Large-scale events involving more than 1000 people are to be banned. The ban comes into immediate effect and will apply at least until 15 March. The Federal Council's top priority is to protect the population. It is responding to the latest developments in the coronavirus epidemic and has categorised the situation in Switzerland as ‘special' in terms of the Epidemics Act. This enables the Federal Council, in consultation with the cantons, to order measures that are normally the responsibility of the cantons.The Federal Council is banning public and private events in Switzerland at which more than 1000 people would gather. This ban on events comes into immediate effect and will apply at least until 15 March. The cantons are responsible for enforcing the ban.In the case of public or private events at which fewer than 1000 people would gather, event organisers must carry out a risk assessment in conjunction with the competent cantonal authorities to decide whether or not the event can be held.The Federal Council is aware that this measure will have a significant impact on public life in Switzerland. However, the move is expected to provide effective protection to people in Switzerland and to public health. It should prevent or delay the spread of the disease in Switzerland, thus reducing its momentum. The Federal Council's top priority is to protect the population. It is responding to the latest developments in the coronavirus epidemic and has categorised the situation in Switzerland as ‘special' in terms of the Epidemics Act. This enables the Federal Council, in consultation with the cantons, to order measures that are normally the responsibility of the cantons. The Federal Council is banning public and private events in Switzerland at which more than 1000 people would gather. This ban on events comes into immediate effect and will apply at least until 15 March. The cantons are responsible for enforcing the ban. In the case of public or private events at which fewer than 1000 people would gather, event organisers must carry out a risk assessment in conjunction with the competent cantonal authorities to decide whether or not the event can be held. The Federal Council is aware that this measure will have a significant impact on public life in Switzerland. However, the move is expected to provide effective protection to people in Switzerland and to public health. It should prevent or delay the spread of the disease in Switzerland, thus reducing its momentum.\n"
     ]
    }
   ],
   "source": [
    "sample = df['text'][0]\n",
    "print(sample)"
   ]
  },
  {
   "cell_type": "markdown",
   "metadata": {},
   "source": [
    "We can start by splitting the document on whitespace and then count the instances of each token to find the most frequent one. However, there are some issues with this approach. Let's see why. "
   ]
  },
  {
   "cell_type": "code",
   "execution_count": 18,
   "metadata": {},
   "outputs": [
    {
     "name": "stdout",
     "output_type": "stream",
     "text": [
      "['Bern,', '28.02.2020', '-', 'An', 'extraordinary', 'meeting', 'of', 'the', 'Federal', 'Council', 'was', 'held', 'today,', '28', 'February.', 'In', 'view', 'of', 'the', 'current', 'situation', 'and', 'the', 'spread', 'of', 'the', 'coronavirus,', 'the', 'Federal', 'Council', 'has', 'categorised', 'the', 'situation', 'in', 'Switzerland', 'as', '‘special’', 'in', 'terms', 'of', 'the', 'Epidemics', 'Act.', 'Large-scale', 'events', 'involving', 'more', 'than', '1000', 'people', 'are', 'to', 'be', 'banned.', 'The', 'ban', 'comes', 'into', 'immediate', 'effect', 'and', 'will', 'apply', 'at', 'least', 'until', '15', 'March.', 'The', 'Federal', \"Council's\", 'top', 'priority', 'is', 'to', 'protect', 'the', 'population.', 'It', 'is', 'responding', 'to', 'the', 'latest', 'developments', 'in', 'the', 'coronavirus', 'epidemic', 'and', 'has', 'categorised', 'the', 'situation', 'in', 'Switzerland', 'as', \"‘special'\", 'in', 'terms', 'of', 'the', 'Epidemics', 'Act.', 'This', 'enables', 'the', 'Federal', 'Council,', 'in', 'consultation', 'with', 'the', 'cantons,', 'to', 'order', 'measures', 'that', 'are', 'normally', 'the', 'responsibility', 'of', 'the', 'cantons.The', 'Federal', 'Council', 'is', 'banning', 'public', 'and', 'private', 'events', 'in', 'Switzerland', 'at', 'which', 'more', 'than', '1000', 'people', 'would', 'gather.', 'This', 'ban', 'on', 'events', 'comes', 'into']\n"
     ]
    }
   ],
   "source": [
    "# Split text on whitespace\n",
    "print(sample.split()[0:150])\n",
    "\n",
    "# Note: we show only the first 150 tokens"
   ]
  },
  {
   "cell_type": "markdown",
   "metadata": {},
   "source": [
    "This approach doesn't separate punctuation from adjacent words. For example, in the following tokens: `February.`, `March.`, `Act.`, etc., the period `.` wasn't separated from the preceding token. This is not great as it means `February.` and `February` won't be counted together.\n",
    "\n",
    "Below, we replace characters such as commas, periods, parentheses and single hyphens (`-`) with whitespace, using regular expressions."
   ]
  },
  {
   "cell_type": "code",
   "execution_count": 19,
   "metadata": {},
   "outputs": [
    {
     "name": "stdout",
     "output_type": "stream",
     "text": [
      "Bern  28 02 2020 An extraordinary meeting of the Federal Council was held today  28 February  In view of the current situation and the spread of the coronavirus  the Federal Council has categorised the situation in Switzerland as ‘special’ in terms of the Epidemics Act  Large-scale events involving more than 1000 people are to be banned  The ban comes into immediate effect and will apply at least until 15 March  The Federal Council's top priority is to protect the population  It is responding to the latest developments in the coronavirus epidemic and has categorised the situation in Switzerland as ‘special' in terms of the Epidemics Act  This enables the Federal Council  in consultation with the cantons  to order measures that are normally the responsibility of the cantons The Federal Council is banning public and private events in Switzerland at which more than 1000 people would gather  This ban on events comes into immediate effect and will apply at least until 15 March  The cantons are responsible for enforcing the ban In the case of public or private events at which fewer than 1000 people would gather  event organisers must carry out a risk assessment in conjunction with the competent cantonal authorities to decide whether or not the event can be held The Federal Council is aware that this measure will have a significant impact on public life in Switzerland  However  the move is expected to provide effective protection to people in Switzerland and to public health  It should prevent or delay the spread of the disease in Switzerland  thus reducing its momentum  The Federal Council's top priority is to protect the population  It is responding to the latest developments in the coronavirus epidemic and has categorised the situation in Switzerland as ‘special' in terms of the Epidemics Act  This enables the Federal Council  in consultation with the cantons  to order measures that are normally the responsibility of the cantons  The Federal Council is banning public and private events in Switzerland at which more than 1000 people would gather  This ban on events comes into immediate effect and will apply at least until 15 March  The cantons are responsible for enforcing the ban  In the case of public or private events at which fewer than 1000 people would gather  event organisers must carry out a risk assessment in conjunction with the competent cantonal authorities to decide whether or not the event can be held  The Federal Council is aware that this measure will have a significant impact on public life in Switzerland  However  the move is expected to provide effective protection to people in Switzerland and to public health  It should prevent or delay the spread of the disease in Switzerland  thus reducing its momentum \n"
     ]
    }
   ],
   "source": [
    "import re\n",
    "\n",
    "# Replace punctuation marks (,.()) with whitespace\n",
    "clean_sample = re.sub(r\"[,.()]\", # regex pattern\n",
    "                      \" \",       # replace with whitespace\n",
    "                      sample     # string\n",
    "                     )\n",
    "\n",
    "# Replace single hyphens with whitespace\n",
    "clean_sample = re.sub(r\"\\s-\\s\",      # regex pattern\n",
    "                      \" \",           # replace with whitespace\n",
    "                      clean_sample   # string\n",
    "                     )\n",
    "\n",
    "# Print clean_sample\n",
    "print(clean_sample)"
   ]
  },
  {
   "cell_type": "markdown",
   "metadata": {},
   "source": [
    "Now we can go ahead and split the `clean_sample` on whitespace."
   ]
  },
  {
   "cell_type": "code",
   "execution_count": 20,
   "metadata": {},
   "outputs": [
    {
     "name": "stdout",
     "output_type": "stream",
     "text": [
      "['Bern', '28', '02', '2020', 'An', 'extraordinary', 'meeting', 'of', 'the', 'Federal', 'Council', 'was', 'held', 'today', '28', 'February', 'In', 'view', 'of', 'the', 'current', 'situation', 'and', 'the', 'spread', 'of', 'the', 'coronavirus', 'the', 'Federal', 'Council', 'has', 'categorised', 'the', 'situation', 'in', 'Switzerland', 'as', '‘special’', 'in', 'terms', 'of', 'the', 'Epidemics', 'Act', 'Large-scale', 'events', 'involving', 'more', 'than', '1000', 'people', 'are', 'to', 'be', 'banned', 'The', 'ban', 'comes', 'into', 'immediate', 'effect', 'and', 'will', 'apply', 'at', 'least', 'until', '15', 'March', 'The', 'Federal', \"Council's\", 'top', 'priority', 'is', 'to', 'protect', 'the', 'population', 'It', 'is', 'responding', 'to', 'the', 'latest', 'developments', 'in', 'the', 'coronavirus', 'epidemic', 'and', 'has', 'categorised', 'the', 'situation', 'in', 'Switzerland', 'as', \"‘special'\", 'in', 'terms', 'of', 'the', 'Epidemics', 'Act', 'This', 'enables', 'the', 'Federal', 'Council', 'in', 'consultation', 'with', 'the', 'cantons', 'to', 'order', 'measures', 'that', 'are', 'normally', 'the', 'responsibility', 'of', 'the', 'cantons', 'The', 'Federal', 'Council', 'is', 'banning', 'public', 'and', 'private', 'events', 'in', 'Switzerland', 'at', 'which', 'more', 'than', '1000', 'people', 'would', 'gather', 'This', 'ban', 'on', 'events']\n"
     ]
    }
   ],
   "source": [
    "# Split clean_sample on whitespace\n",
    "print(clean_sample.split()[0:150])\n",
    "\n",
    "# Note: we show only the first 150 tokens"
   ]
  },
  {
   "cell_type": "markdown",
   "metadata": {},
   "source": [
    "We were able to separate punctuation marks from adjacent words and remove single hyphens. Let's go ahead and find the most common tokens in our text sample. We will use the `Counter` object from the `collections` module."
   ]
  },
  {
   "cell_type": "code",
   "execution_count": 21,
   "metadata": {},
   "outputs": [
    {
     "data": {
      "text/plain": [
       "[('the', 39),\n",
       " ('in', 20),\n",
       " ('to', 15),\n",
       " ('of', 12),\n",
       " ('Switzerland', 11),\n",
       " ('Federal', 10),\n",
       " ('and', 10),\n",
       " ('is', 10),\n",
       " ('The', 9),\n",
       " ('Council', 8),\n",
       " ('public', 8),\n",
       " ('events', 7),\n",
       " ('people', 7),\n",
       " ('at', 7),\n",
       " ('cantons', 6),\n",
       " ('or', 6),\n",
       " ('than', 5),\n",
       " ('1000', 5),\n",
       " ('are', 5),\n",
       " ('ban', 5),\n",
       " ('will', 5),\n",
       " ('situation', 4),\n",
       " ('It', 4),\n",
       " ('This', 4),\n",
       " ('with', 4)]"
      ]
     },
     "execution_count": 21,
     "metadata": {},
     "output_type": "execute_result"
    }
   ],
   "source": [
    "from collections import Counter\n",
    "\n",
    "# Print top-25 most frequent tokens in clean_sample\n",
    "Counter(clean_sample.split()).most_common(25)"
   ]
  },
  {
   "cell_type": "markdown",
   "metadata": {},
   "source": [
    "Here are a few observations: \n",
    "  \n",
    "* The words \"The\" and \"the\" were counted separately. However, there is no advantage in tracking \"The\" and \"the\" separately.\n",
    "* Words such as: \"the\", \"in\", \"to\", etc. are among the most common tokens. These words don't help us understand what a press release is about.\n",
    "\n",
    "We will address both issues below.\n",
    "\n",
    "### Case folding\n",
    "\n",
    "It is common to convert documents to lowercase; instead of including all capitalized and lowercase versions of a word in the text (e.g., \"The\", and \"The\"), we keep only words in lowercase (\"the\")."
   ]
  },
  {
   "cell_type": "code",
   "execution_count": 22,
   "metadata": {},
   "outputs": [
    {
     "name": "stdout",
     "output_type": "stream",
     "text": [
      "Convert to lowercase: \n",
      "\n",
      "bern  28 02 2020 an extraordinary meeting of the federal council was held today  28 february  in view of the current situation and the spread of the coronavirus  the federal council has categorised the situation in switzerland as ‘special’ in terms of the epidemics act  large-scale events involving more than 1000 people are to be banned  the ban comes into immediate effect and will apply at least until 15 march  the federal council's top priority is to protect the population  it is responding to the latest developments in the coronavirus epidemic and has categorised the situation in switzerland as ‘special' in terms of the epidemics act  this enables the federal council  in consultation with the cantons  to order measures that are normally the responsibility of the cantons the federal council is banning public and private events in switzerland at which more than 1000 people would gather  this ban on events comes into immediate effect and will apply at least until 15 march  the cantons are responsible for enforcing the ban in the case of public or private events at which fewer than 1000 people would gather  event organisers must carry out a risk assessment in conjunction with the competent cantonal authorities to decide whether or not the event can be held the federal council is aware that this measure will have a significant impact on public life in switzerland  however  the move is expected to provide effective protection to people in switzerland and to public health  it should prevent or delay the spread of the disease in switzerland  thus reducing its momentum  the federal council's top priority is to protect the population  it is responding to the latest developments in the coronavirus epidemic and has categorised the situation in switzerland as ‘special' in terms of the epidemics act  this enables the federal council  in consultation with the cantons  to order measures that are normally the responsibility of the cantons  the federal council is banning public and private events in switzerland at which more than 1000 people would gather  this ban on events comes into immediate effect and will apply at least until 15 march  the cantons are responsible for enforcing the ban  in the case of public or private events at which fewer than 1000 people would gather  event organisers must carry out a risk assessment in conjunction with the competent cantonal authorities to decide whether or not the event can be held  the federal council is aware that this measure will have a significant impact on public life in switzerland  however  the move is expected to provide effective protection to people in switzerland and to public health  it should prevent or delay the spread of the disease in switzerland  thus reducing its momentum \n",
      "\n"
     ]
    }
   ],
   "source": [
    "# Case folding\n",
    "processed_sample = clean_sample.lower()\n",
    "\n",
    "print(\"Convert to lowercase: \\n\\n{}\\n\".format(processed_sample))"
   ]
  },
  {
   "cell_type": "markdown",
   "metadata": {},
   "source": [
    "### Stop words\n",
    "\n",
    "Words such as \"the\", \"in\", \"to\", are commonly referred to as *stop words* and are necessary for a sentence to make sense from a grammatical point of view. However, they are very \"frequent\" and usually \"uninformative\". Hence, in most cases, it is useful to remove them from text. \n",
    "\n",
    "Many libraries for working with text provide pre-compiled lists of stop words for several languages. We will use the list provided by the [NLTK library](https://www.nltk.org/)."
   ]
  },
  {
   "cell_type": "code",
   "execution_count": 23,
   "metadata": {},
   "outputs": [],
   "source": [
    "# Load English stopwords from nltk\n",
    "\n",
    "import nltk\n",
    "\n",
    "nltk.download(\"stopwords\", quiet=True)\n",
    "\n",
    "from nltk.corpus import stopwords\n",
    "\n",
    "stopwords_english = stopwords.words(\"english\")"
   ]
  },
  {
   "cell_type": "code",
   "execution_count": 24,
   "metadata": {},
   "outputs": [
    {
     "name": "stdout",
     "output_type": "stream",
     "text": [
      "179 stopwords in NLTK's list.\n",
      "\n",
      "['i', 'me', 'my', 'myself', 'we', 'our', 'ours', 'ourselves', 'you', \"you're\", \"you've\", \"you'll\", \"you'd\", 'your', 'yours', 'yourself', 'yourselves', 'he', 'him', 'his', 'himself', 'she', \"she's\", 'her', 'hers', 'herself', 'it', \"it's\", 'its', 'itself', 'they', 'them', 'their', 'theirs', 'themselves', 'what', 'which', 'who', 'whom', 'this', 'that', \"that'll\", 'these', 'those', 'am', 'is', 'are', 'was', 'were', 'be', 'been', 'being', 'have', 'has', 'had', 'having', 'do', 'does', 'did', 'doing', 'a', 'an', 'the', 'and', 'but', 'if', 'or', 'because', 'as', 'until', 'while', 'of', 'at', 'by', 'for', 'with', 'about', 'against', 'between', 'into', 'through', 'during', 'before', 'after', 'above', 'below', 'to', 'from', 'up', 'down', 'in', 'out', 'on', 'off', 'over', 'under', 'again', 'further', 'then', 'once', 'here', 'there', 'when', 'where', 'why', 'how', 'all', 'any', 'both', 'each', 'few', 'more', 'most', 'other', 'some', 'such', 'no', 'nor', 'not', 'only', 'own', 'same', 'so', 'than', 'too', 'very', 's', 't', 'can', 'will', 'just', 'don', \"don't\", 'should', \"should've\", 'now', 'd', 'll', 'm', 'o', 're', 've', 'y', 'ain', 'aren', \"aren't\", 'couldn', \"couldn't\", 'didn', \"didn't\", 'doesn', \"doesn't\", 'hadn', \"hadn't\", 'hasn', \"hasn't\", 'haven', \"haven't\", 'isn', \"isn't\", 'ma', 'mightn', \"mightn't\", 'mustn', \"mustn't\", 'needn', \"needn't\", 'shan', \"shan't\", 'shouldn', \"shouldn't\", 'wasn', \"wasn't\", 'weren', \"weren't\", 'won', \"won't\", 'wouldn', \"wouldn't\"]\n"
     ]
    }
   ],
   "source": [
    "# Print stopwords\n",
    "\n",
    "print(\"{} stopwords in NLTK's list.\\n\".format(len(stopwords_english)))\n",
    "print(stopwords_english)"
   ]
  },
  {
   "cell_type": "markdown",
   "metadata": {},
   "source": [
    "There are 179 words in NLTK's stop words list.\n",
    "\n",
    "We can remove stop words from our document using list comprehensions."
   ]
  },
  {
   "cell_type": "code",
   "execution_count": 25,
   "metadata": {},
   "outputs": [
    {
     "name": "stdout",
     "output_type": "stream",
     "text": [
      "['bern', '28', '02', '2020', 'extraordinary', 'meeting', 'federal', 'council', 'held', 'today', '28', 'february', 'view', 'current', 'situation', 'spread', 'coronavirus', 'federal', 'council', 'categorised', 'situation', 'switzerland', '‘special’', 'terms', 'epidemics', 'act', 'large-scale', 'events', 'involving', '1000', 'people', 'banned', 'ban', 'comes', 'immediate', 'effect', 'apply', 'least', '15', 'march', 'federal', \"council's\", 'top', 'priority', 'protect', 'population', 'responding', 'latest', 'developments', 'coronavirus', 'epidemic', 'categorised', 'situation', 'switzerland', \"‘special'\", 'terms', 'epidemics', 'act', 'enables', 'federal', 'council', 'consultation', 'cantons', 'order', 'measures', 'normally', 'responsibility', 'cantons', 'federal', 'council', 'banning', 'public', 'private', 'events', 'switzerland', '1000', 'people', 'would', 'gather', 'ban', 'events', 'comes', 'immediate', 'effect', 'apply', 'least', '15', 'march', 'cantons', 'responsible', 'enforcing', 'ban', 'case', 'public', 'private', 'events', 'fewer', '1000', 'people', 'would', 'gather', 'event', 'organisers', 'must', 'carry', 'risk', 'assessment', 'conjunction', 'competent', 'cantonal', 'authorities', 'decide', 'whether', 'event', 'held', 'federal', 'council', 'aware', 'measure', 'significant', 'impact', 'public', 'life', 'switzerland', 'however', 'move', 'expected', 'provide', 'effective', 'protection', 'people', 'switzerland', 'public', 'health', 'prevent', 'delay', 'spread', 'disease', 'switzerland', 'thus', 'reducing', 'momentum', 'federal', \"council's\", 'top', 'priority', 'protect', 'population', 'responding', 'latest', 'developments', 'coronavirus', 'epidemic', 'categorised', 'situation', 'switzerland', \"‘special'\", 'terms', 'epidemics', 'act', 'enables', 'federal', 'council', 'consultation', 'cantons', 'order', 'measures', 'normally', 'responsibility', 'cantons', 'federal', 'council', 'banning', 'public', 'private', 'events', 'switzerland', '1000', 'people', 'would', 'gather', 'ban', 'events', 'comes', 'immediate', 'effect', 'apply', 'least', '15', 'march', 'cantons', 'responsible', 'enforcing', 'ban', 'case', 'public', 'private', 'events', 'fewer', '1000', 'people', 'would', 'gather', 'event', 'organisers', 'must', 'carry', 'risk', 'assessment', 'conjunction', 'competent', 'cantonal', 'authorities', 'decide', 'whether', 'event', 'held', 'federal', 'council', 'aware', 'measure', 'significant', 'impact', 'public', 'life', 'switzerland', 'however', 'move', 'expected', 'provide', 'effective', 'protection', 'people', 'switzerland', 'public', 'health', 'prevent', 'delay', 'spread', 'disease', 'switzerland', 'thus', 'reducing', 'momentum']\n"
     ]
    }
   ],
   "source": [
    "# Use a list comprehension to remove stopwords from processed_sample\n",
    "\n",
    "processed_sample_tokens = [tok for tok in processed_sample.split() if tok not in stopwords_english]\n",
    "print(processed_sample_tokens)"
   ]
  },
  {
   "cell_type": "markdown",
   "metadata": {},
   "source": [
    "So far, we removed punctuation marks, converted text to lowercase, and removed stop words. Let's recount words in our text sample. "
   ]
  },
  {
   "cell_type": "code",
   "execution_count": 26,
   "metadata": {},
   "outputs": [
    {
     "data": {
      "text/plain": [
       "[('switzerland', 11),\n",
       " ('federal', 10),\n",
       " ('council', 8),\n",
       " ('public', 8),\n",
       " ('events', 7),\n",
       " ('people', 7),\n",
       " ('cantons', 6),\n",
       " ('1000', 5),\n",
       " ('ban', 5),\n",
       " ('situation', 4),\n",
       " ('private', 4),\n",
       " ('would', 4),\n",
       " ('gather', 4),\n",
       " ('event', 4),\n",
       " ('held', 3),\n",
       " ('spread', 3),\n",
       " ('coronavirus', 3),\n",
       " ('categorised', 3),\n",
       " ('terms', 3),\n",
       " ('epidemics', 3),\n",
       " ('act', 3),\n",
       " ('comes', 3),\n",
       " ('immediate', 3),\n",
       " ('effect', 3),\n",
       " ('apply', 3)]"
      ]
     },
     "execution_count": 26,
     "metadata": {},
     "output_type": "execute_result"
    }
   ],
   "source": [
    "# Print top-25 most frequent tokens in processed_sample_tokens\n",
    "\n",
    "Counter(processed_sample_tokens).most_common(25)"
   ]
  },
  {
   "cell_type": "markdown",
   "metadata": {},
   "source": [
    "It looks like our text cleaning was helpful. The topmost frequent tokens in this press release are now more \"informative\" about its content. It seems that this particular press release is about restricting the number of persons allowed to public and private events to reduce the spread of Covid-19.\n",
    "\n",
    "At this point, it would be nice to combine all previous cleaning steps into a single function that we will call `preprocess_text`. This function takes a document, removes common punctuation marks, converts text to lowercase, removes stopwords, and splits on whitespace."
   ]
  },
  {
   "cell_type": "code",
   "execution_count": 27,
   "metadata": {},
   "outputs": [],
   "source": [
    "# Define preprocess_text function\n",
    "\n",
    "def preprocess_text(text):\n",
    "    \n",
    "    '''\n",
    "    This function preprocesses raw samples of text:\n",
    "    - Converts to lowercase\n",
    "    - Replaces common punctuation marks with whitespace\n",
    "    - Removes stop words\n",
    "    - Splits text on whitespace\n",
    "    \n",
    "    INPUT: \n",
    "    - text: \"raw\" text (string)\n",
    "    \n",
    "    OUTPUT:\n",
    "    - processed_sample_tokens: list of tokens (list of strings)\n",
    "    '''\n",
    "    \n",
    "    # Convert to lowercase\n",
    "    clean_text = text.lower()\n",
    "    \n",
    "    # Replace common punctuation marks with whitespace\n",
    "    clean_text = re.sub(r\"[,.()]\",\" \", clean_text)\n",
    "    \n",
    "    # Replace single hyphens with whitespace\n",
    "    clean_text = re.sub(r\"\\s-\\s\",\" \", clean_text)\n",
    "    \n",
    "    # Remove stop words and split on whitespace\n",
    "    processed_sample_tokens = [tok for tok in clean_text.split() if tok not in stopwords_english]\n",
    "    \n",
    "    return processed_sample_tokens"
   ]
  },
  {
   "cell_type": "markdown",
   "metadata": {},
   "source": [
    "Let's test this function with an example. Below we sample a press release randomly from the dataset, using the `random` library."
   ]
  },
  {
   "cell_type": "code",
   "execution_count": 28,
   "metadata": {},
   "outputs": [
    {
     "name": "stdout",
     "output_type": "stream",
     "text": [
      "['bern', '18', '11', '2020', 'meeting', '18', 'november', '2020', 'federal', 'council', 'decided', 'propose', 'winter', 'session', 'parliament', 'urgently', 'debate', 'ad', 'hoc', 'adjustments', 'covid-19', 'act', 'would', 'enable', 'swifter', 'reaction', 'ongoing', 'developments', 'second', 'wave', 'covid-19', 'pandemic', 'proposal', 'includes', 'expansion', 'hardship', 'support', 'programme', 'chf', '1', 'billion', 'total', 'increase', \"confederation's\", 'share', 'around', 'two', 'thirds', 'addition', 'short-time', 'working', 'compensation', 'payments', 'extended', 'sport', 'professional', 'semi-professional', 'clubs', 'able', 'receive', 'support', 'form', 'non-repayable', 'contributions', 'federal', 'council', 'considers', 'existing', 'package', 'measures', 'cushion', 'impact', 'pandemic', 'generally', 'sufficient', 'however', 'would', 'like', 'use', 'ad', 'hoc', 'adjustments', 'create', 'basis', 'better', 'reacting', 'developments', 'second', 'wave', 'federal', 'council', 'therefore', 'submitting', 'dispatch', 'parliament', 'amendments', 'covid-19', 'act', 'covid-19', 'joint', 'several', 'guarantee', 'act', 'covid-19', 'act', 'provisions', 'cases', 'hardship', 'art', '12', 'sport', 'art', '13', 'new', 'art', '12b', 'unemployment', 'insurance', 'art', '17', 'particular', 'amended:cases', 'hardship:', 'total', 'amount', 'support', 'confederation', 'cantons', 'increased', 'chf', '1', 'billion', \"confederation's\", 'share', 'costs', 'would', '50%', 'chf', '400', 'million', 'e', 'chf', '200', 'million', '80%', 'thereafter', 'chf', '480', 'million', 'confederation']\n"
     ]
    }
   ],
   "source": [
    "# Sample a press release randomly from the data\n",
    "import random\n",
    "sample =  df.iloc[random.randint(0,len(df)-1),2]\n",
    "\n",
    "print(preprocess_text(sample)[0:150])\n",
    "\n",
    "# Note: we show only the first 150 tokens"
   ]
  },
  {
   "cell_type": "markdown",
   "metadata": {},
   "source": [
    "We can now use this function to process all press releases. This can be done either using list comprehensions or with the `apply` method."
   ]
  },
  {
   "cell_type": "code",
   "execution_count": 29,
   "metadata": {},
   "outputs": [
    {
     "name": "stdout",
     "output_type": "stream",
     "text": [
      "['bern', '28', '02', '2020', 'extraordinary', 'meeting', 'federal', 'council', 'held', 'today', '28', 'february', 'view', 'current', 'situation', 'spread', 'coronavirus', 'federal', 'council', 'categorised', 'situation', 'switzerland', '‘special’', 'terms', 'epidemics', 'act', 'large-scale', 'events', 'involving', '1000', 'people', 'banned', 'ban', 'comes', 'immediate', 'effect', 'apply', 'least', '15', 'march', 'federal', \"council's\", 'top', 'priority', 'protect', 'population', 'responding', 'latest', 'developments', 'coronavirus', 'epidemic', 'categorised', 'situation', 'switzerland', \"‘special'\", 'terms', 'epidemics', 'act', 'enables', 'federal', 'council', 'consultation', 'cantons', 'order', 'measures', 'normally', 'responsibility', 'cantons', 'federal', 'council', 'banning', 'public', 'private', 'events', 'switzerland', '1000', 'people', 'would', 'gather', 'ban', 'events', 'comes', 'immediate', 'effect', 'apply', 'least', '15', 'march', 'cantons', 'responsible', 'enforcing', 'ban', 'case', 'public', 'private', 'events', 'fewer', '1000', 'people', 'would', 'gather', 'event', 'organisers', 'must', 'carry', 'risk', 'assessment', 'conjunction', 'competent', 'cantonal', 'authorities', 'decide', 'whether', 'event', 'held', 'federal', 'council', 'aware', 'measure', 'significant', 'impact', 'public', 'life', 'switzerland', 'however', 'move', 'expected', 'provide', 'effective', 'protection', 'people', 'switzerland', 'public', 'health', 'prevent', 'delay', 'spread', 'disease', 'switzerland', 'thus', 'reducing', 'momentum', 'federal', \"council's\", 'top', 'priority', 'protect', 'population', 'responding', 'latest', 'developments', 'coronavirus', 'epidemic', 'categorised', 'situation', 'switzerland', \"‘special'\", 'terms', 'epidemics', 'act', 'enables', 'federal', 'council', 'consultation', 'cantons', 'order', 'measures', 'normally', 'responsibility', 'cantons', 'federal', 'council', 'banning', 'public', 'private', 'events', 'switzerland', '1000', 'people', 'would', 'gather', 'ban', 'events', 'comes', 'immediate', 'effect', 'apply', 'least', '15', 'march', 'cantons', 'responsible', 'enforcing', 'ban', 'case', 'public', 'private', 'events', 'fewer', '1000', 'people', 'would', 'gather', 'event', 'organisers', 'must', 'carry', 'risk', 'assessment', 'conjunction', 'competent', 'cantonal', 'authorities', 'decide', 'whether', 'event', 'held', 'federal', 'council', 'aware', 'measure', 'significant', 'impact', 'public', 'life', 'switzerland', 'however', 'move', 'expected', 'provide', 'effective', 'protection', 'people', 'switzerland', 'public', 'health', 'prevent', 'delay', 'spread', 'disease', 'switzerland', 'thus', 'reducing', 'momentum']\n"
     ]
    }
   ],
   "source": [
    "# 1st alternative (using list comprehensions)\n",
    "\n",
    "preprocessed_press_releases = [preprocess_text(doc) for doc in df['text']]\n",
    "\n",
    "# Show an example of processed and tokenized text\n",
    "print(preprocessed_press_releases[0])"
   ]
  },
  {
   "cell_type": "code",
   "execution_count": 30,
   "metadata": {},
   "outputs": [
    {
     "data": {
      "text/html": [
       "<div>\n",
       "<style scoped>\n",
       "    .dataframe tbody tr th:only-of-type {\n",
       "        vertical-align: middle;\n",
       "    }\n",
       "\n",
       "    .dataframe tbody tr th {\n",
       "        vertical-align: top;\n",
       "    }\n",
       "\n",
       "    .dataframe thead th {\n",
       "        text-align: right;\n",
       "    }\n",
       "</style>\n",
       "<table border=\"1\" class=\"dataframe\">\n",
       "  <thead>\n",
       "    <tr style=\"text-align: right;\">\n",
       "      <th></th>\n",
       "      <th>title</th>\n",
       "      <th>pub_date</th>\n",
       "      <th>text</th>\n",
       "      <th>clean_text</th>\n",
       "    </tr>\n",
       "  </thead>\n",
       "  <tbody>\n",
       "    <tr>\n",
       "      <th>32</th>\n",
       "      <td>Coronavirus: 2021 budget – subsequent notifica...</td>\n",
       "      <td>2020-09-25</td>\n",
       "      <td>Bern, 25.09.2020 - The Federal Council and Par...</td>\n",
       "      <td>[bern, 25, 09, 2020, federal, council, parliam...</td>\n",
       "    </tr>\n",
       "  </tbody>\n",
       "</table>\n",
       "</div>"
      ],
      "text/plain": [
       "                                                title   pub_date  \\\n",
       "32  Coronavirus: 2021 budget – subsequent notifica... 2020-09-25   \n",
       "\n",
       "                                                 text  \\\n",
       "32  Bern, 25.09.2020 - The Federal Council and Par...   \n",
       "\n",
       "                                           clean_text  \n",
       "32  [bern, 25, 09, 2020, federal, council, parliam...  "
      ]
     },
     "execution_count": 30,
     "metadata": {},
     "output_type": "execute_result"
    }
   ],
   "source": [
    "# 2nd alternative (using the apply method)\n",
    "\n",
    "df['clean_text'] = df['text'].apply(lambda x: preprocess_text(x))\n",
    "\n",
    "# Show an example of preprocessed and tokenized text\n",
    "df.sample()"
   ]
  },
  {
   "cell_type": "markdown",
   "metadata": {},
   "source": [
    "### Collocations  \n",
    "\n",
    "There is one more thing we can do with our texts. We can look for combinations of words that frequently appear together, such as *Federal Council*, *private event*, *Covid certificate*, etc. We often call these word combinations: *phrases* or *collocations*. These word combinations appear in texts more frequently than their constituent words appear individually.\n",
    "\n",
    "We will use [Gensim's Phrases model](https://radimrehurek.com/gensim_3.8.3/models/phrases.html) to detect collocations in our corpus. `model.phrases` will identify the most common collocations and join the constituent tokens into a single token, using the \"_\" glue character. \n",
    "\n",
    "Examples:\n",
    "\n",
    "$$\\text{\"Federal Council\" → \"Federal_Council\"}$$\n",
    "\n",
    "$$\\text{\"covid certificate\" → \"covid_certificate\"}$$\n",
    "\n",
    "$$\\text{\"press release\" → \"press_release\"}$$  "
   ]
  },
  {
   "cell_type": "code",
   "execution_count": 31,
   "metadata": {},
   "outputs": [],
   "source": [
    "# Import Gensim and Phrases\n",
    "\n",
    "import gensim\n",
    "from gensim.models import Phrases"
   ]
  },
  {
   "cell_type": "markdown",
   "metadata": {},
   "source": [
    "We start by creating an instance of the `Phrases` model."
   ]
  },
  {
   "cell_type": "code",
   "execution_count": 32,
   "metadata": {},
   "outputs": [],
   "source": [
    "# Find common collocations in press releases\n",
    "\n",
    "# Create an instance of the Phrases model\n",
    "n_gram_model = Phrases(preprocessed_press_releases,       # Expected input format: list of tokenized texts\n",
    "                       min_count=5,                       # Keeps only collocations with at least min_counts \n",
    "                       delimiter=b'_')                    # Glue character used to join collocation tokens"
   ]
  },
  {
   "cell_type": "markdown",
   "metadata": {},
   "source": [
    "In the cell above, we set `min_count` to 5 to ignore any collocation appearing less than 5 times in the corpus. However, please note that this value is arbitrary. \n",
    "\n",
    "In the next step, we apply the `n_gram_model` model to the press releases texts."
   ]
  },
  {
   "cell_type": "code",
   "execution_count": 33,
   "metadata": {},
   "outputs": [],
   "source": [
    "# Apply Phrases to press releases\n",
    "\n",
    "preprocessed_press_releases_collocations = [n_gram_model[doc] for doc in preprocessed_press_releases]"
   ]
  },
  {
   "cell_type": "code",
   "execution_count": 34,
   "metadata": {},
   "outputs": [],
   "source": [
    "# Add processed press releases (with collocations) to dataframe\n",
    "\n",
    "df['clean_text'] = preprocessed_press_releases_collocations"
   ]
  },
  {
   "cell_type": "markdown",
   "metadata": {},
   "source": [
    "Let's print one example to see how it looks like."
   ]
  },
  {
   "cell_type": "code",
   "execution_count": 35,
   "metadata": {},
   "outputs": [
    {
     "name": "stdout",
     "output_type": "stream",
     "text": [
      "['bern', '28', '02', '2020', 'extraordinary', 'meeting', 'federal_council', 'held', 'today', '28', 'february', 'view', 'current', 'situation', 'spread_coronavirus', 'federal_council', 'categorised', 'situation', 'switzerland', '‘special’', 'terms_epidemics', 'act', 'large-scale_events', 'involving', '1000_people', 'banned', 'ban', 'comes', 'immediate', 'effect', 'apply', 'least', '15', 'march', \"federal_council's\", 'top_priority', 'protect_population', 'responding', 'latest', 'developments', 'coronavirus', 'epidemic', 'categorised', 'situation', 'switzerland', \"‘special'\", 'terms_epidemics', 'act', 'enables', 'federal_council', 'consultation', 'cantons', 'order', 'measures', 'normally', 'responsibility', 'cantons', 'federal_council', 'banning', 'public', 'private_events', 'switzerland', '1000_people', 'would', 'gather', 'ban', 'events', 'comes', 'immediate', 'effect', 'apply', 'least', '15', 'march', 'cantons_responsible', 'enforcing', 'ban', 'case', 'public', 'private_events', 'fewer_1000', 'people', 'would', 'gather', 'event_organisers', 'must', 'carry', 'risk', 'assessment', 'conjunction', 'competent', 'cantonal_authorities', 'decide', 'whether', 'event', 'held', 'federal_council', 'aware', 'measure', 'significant', 'impact', 'public', 'life', 'switzerland', 'however', 'move', 'expected', 'provide', 'effective', 'protection', 'people', 'switzerland', 'public_health', 'prevent', 'delay', 'spread', 'disease', 'switzerland', 'thus', 'reducing', 'momentum', \"federal_council's\", 'top_priority', 'protect_population', 'responding', 'latest', 'developments', 'coronavirus', 'epidemic', 'categorised', 'situation', 'switzerland', \"‘special'\", 'terms_epidemics', 'act', 'enables', 'federal_council', 'consultation', 'cantons', 'order', 'measures', 'normally', 'responsibility', 'cantons', 'federal_council', 'banning', 'public', 'private_events', 'switzerland', '1000_people', 'would', 'gather', 'ban', 'events', 'comes', 'immediate', 'effect', 'apply', 'least', '15', 'march', 'cantons_responsible', 'enforcing', 'ban', 'case', 'public', 'private_events', 'fewer_1000', 'people', 'would', 'gather', 'event_organisers', 'must', 'carry', 'risk', 'assessment', 'conjunction', 'competent', 'cantonal_authorities', 'decide', 'whether', 'event', 'held', 'federal_council', 'aware', 'measure', 'significant', 'impact', 'public', 'life', 'switzerland', 'however', 'move', 'expected', 'provide', 'effective', 'protection', 'people', 'switzerland', 'public_health', 'prevent', 'delay', 'spread', 'disease', 'switzerland', 'thus', 'reducing', 'momentum']\n"
     ]
    }
   ],
   "source": [
    "print(preprocessed_press_releases_collocations[0])"
   ]
  },
  {
   "cell_type": "markdown",
   "metadata": {},
   "source": [
    "As we see, the Phrases model has detected a few collocations in this press release, such as \"federal_council\", \"private_events\", \"terms_epidemics\", \"cantonal_authorities\", etc."
   ]
  },
  {
   "cell_type": "markdown",
   "metadata": {},
   "source": [
    "Below we count and plot the most frequent words in a randomly selected press release. This time we include collocations in the most common words."
   ]
  },
  {
   "cell_type": "code",
   "execution_count": 36,
   "metadata": {},
   "outputs": [
    {
     "data": {
      "image/png": "[encoded data removed]",
      "text/plain": [
       "<Figure size 1080x216 with 1 Axes>"
      ]
     },
     "metadata": {
      "image/png": {
       "height": 350,
       "width": 888
      },
      "needs_background": "light"
     },
     "output_type": "display_data"
    }
   ],
   "source": [
    "# Generates a random integer between 0 and len(df)\n",
    "idx = random.randint(0,len(df))\n",
    "\n",
    "# Find top-50 most common words\n",
    "w = Counter(preprocessed_press_releases_collocations[idx]).most_common(50)\n",
    "\n",
    "# Plots top words\n",
    "\n",
    "# Barplot and font specifications\n",
    "barplot_specs   = {\"color\": \"mediumpurple\", \"alpha\": 0.7, \"edgecolor\": \"grey\"}\n",
    "title_specs     = {\"fontsize\": 14, \"fontweight\": \"bold\", \"y\": 1.2}\n",
    "suptitle_specs  = {\"fontsize\": 11}\n",
    "label_specs     = {\"fontsize\": 13}\n",
    "\n",
    "plt.figure(figsize=(15,3))\n",
    "plt.bar(*zip(*w), **barplot_specs)\n",
    "plt.title('Most common words in document {} - Publication date: {}'.format(idx,df.iloc[idx,1].strftime(\"%d-%m-%Y\")), **title_specs)\n",
    "plt.suptitle(df.iloc[idx,0],**suptitle_specs)\n",
    "plt.ylabel('Word counts', **label_specs)\n",
    "plt.xticks(rotation=90)\n",
    "plt.show()"
   ]
  },
  {
   "cell_type": "markdown",
   "metadata": {},
   "source": [
    "Don't hesitate to run the previous cell several times and to compare your findings with the original text. Do the topmost frequent words help guess the \"topic\" of the press release?"
   ]
  },
  {
   "cell_type": "code",
   "execution_count": 37,
   "metadata": {},
   "outputs": [
    {
     "name": "stdout",
     "output_type": "stream",
     "text": [
      "Printing document 48:\n",
      "\n",
      "Bern, 05.03.2021 - The Federal Council wants to massively expand testing in parallel to easing coronavirus restrictions. It is proposing that the Confederation should assume the cost of all tests to encourage more widespread testing. In order to improve the prevention and early detection of coronavirus outbreaks, companies and schools are to conduct regular testing. Employees at companies that test frequently can be exempted from the quarantine requirement for persons who have had contact with someone who has tested positive. In addition, the Federal Council wants to provide each member of the public with five free self-tests a month as soon as reliable tests are available. To ensure that everyone can be tested immediately, all tests in pharmacies and test centres will be free of charge, even for people without symptoms. The cost of expanding testing is estimated at over CHF 1 billion. The Federal Council will make a final decision after consulting the cantons on 12 March. In order to interrupt chains of infection in a targeted manner, it is necessary to rapidly identify who is carrying the virus. Testing is therefore a key element in pandemic control. Now that testing and laboratory capacities are available and self-tests can soon be used, the Federal Council wants to massively expand testing with free tests for all. This will happen in parallel to the gradual relaxing of restrictions on social activities and economic life. Because the more infectious virus variants are spreading at an increasing rate, there must be stricter prevention and earlier detection of local outbreaks.Free tests expected from 15 MarchThe Federal Council has expanded the testing strategy several times. Currently the Confederation not only funds testing for persons with symptoms, but also for asymptomatic persons in care homes and schools, and to combat local outbreaks. The Confederation is now to assume the cost of all tests from 15 March.Regular testing in companies and schoolsPeople working in companies and attending schools are to undergo regular testing using pooled saliva samples. In this form of testing, the test persons' samples are not analysed individually, but in a single pooled sample. This can greatly reduce the amount of material and time required. Regular testing in companies is not a substitute for precautionary measures, but serves as an additional form of protection. Participation is voluntary. The cantons will be able to exempt persons working for companies that test frequently from the requirement to quarantine in the case of contact with an infected person.Self-tests for everyoneSuccess in controlling the pandemic has, since the beginning, relied on the public's sense of responsibility. The Federal Council now wants to make it easier for people to self-test as well. It would like everyone to be able to test themselves regularly, even if they have no symptoms, and to have access to five self-tests per month. However, as there is not yet enough information available on the use of self-tests in asymptomatic persons, the Federal Office of Public Health has not yet approved these types of test. The Federal Council therefore proposes that the Confederation also meet the cost of all rapid tests in pharmacies and test centres, including for cross-border commuters.More testing also involves riskExpanding the testing strategy carries a degree of risk, as each test result just gives a snapshot of a person's state of health. What is more, self-tests are much less reliable than PCR tests. A negative test should not lead to a false sense of security or irresponsible behaviour. It will still be necessary to wear a mask and observe social distancing. People who have a positive rapid test or self-test result need to take a PCR test and gointo isolation immediately. It is still not decided whether people will need to show a negative test result in order to take part in certain events or access certain areas.Cost estimated at CHF 1 billionThe cost of expanding the testing strategy is estimated at over CHF 1 billion in 2021. The statutory basis is provided in the COVID-19 Act, which is in force until the end of the year. In order to interrupt chains of infection in a targeted manner, it is necessary to rapidly identify who is carrying the virus. Testing is therefore a key element in pandemic control. Now that testing and laboratory capacities are available and self-tests can soon be used, the Federal Council wants to massively expand testing with free tests for all. This will happen in parallel to the gradual relaxing of restrictions on social activities and economic life. Because the more infectious virus variants are spreading at an increasing rate, there must be stricter prevention and earlier detection of local outbreaks. Free tests expected from 15 MarchThe Federal Council has expanded the testing strategy several times. Currently the Confederation not only funds testing for persons with symptoms, but also for asymptomatic persons in care homes and schools, and to combat local outbreaks. The Confederation is now to assume the cost of all tests from 15 March. Regular testing in companies and schoolsPeople working in companies and attending schools are to undergo regular testing using pooled saliva samples. In this form of testing, the test persons' samples are not analysed individually, but in a single pooled sample. This can greatly reduce the amount of material and time required. Regular testing in companies is not a substitute for precautionary measures, but serves as an additional form of protection. Participation is voluntary. The cantons will be able to exempt persons working for companies that test frequently from the requirement to quarantine in the case of contact with an infected person. Self-tests for everyoneSuccess in controlling the pandemic has, since the beginning, relied on the public's sense of responsibility. The Federal Council now wants to make it easier for people to self-test as well. It would like everyone to be able to test themselves regularly, even if they have no symptoms, and to have access to five self-tests per month. However, as there is not yet enough information available on the use of self-tests in asymptomatic persons, the Federal Office of Public Health has not yet approved these types of test. The Federal Council therefore proposes that the Confederation also meet the cost of all rapid tests in pharmacies and test centres, including for cross-border commuters.More testing also involves riskExpanding the testing strategy carries a degree of risk, as each test result just gives a snapshot of a person's state of health. What is more, self-tests are much less reliable than PCR tests. A negative test should not lead to a false sense of security or irresponsible behaviour. It will still be necessary to wear a mask and observe social distancing. People who have a positive rapid test or self-test result need to take a PCR test and gointo isolation immediately. It is still not decided whether people will need to show a negative test result in order to take part in certain events or access certain areas. Cost estimated at CHF 1 billionThe cost of expanding the testing strategy is estimated at over CHF 1 billion in 2021. The statutory basis is provided in the COVID-19 Act, which is in force until the end of the year.\n"
     ]
    }
   ],
   "source": [
    "# Print the original unprocessed text corresponding to the previous plot \n",
    "print('Printing document {}:\\n'.format(idx))\n",
    "print(df.iloc[idx,2])"
   ]
  },
  {
   "cell_type": "markdown",
   "metadata": {},
   "source": [
    "### Tf-idf weighting model\n",
    "\n",
    "So far, we have sorted words in documents by their frequencies. \n",
    "\n",
    "However, words that are very frequent across all documents in our corpus aren't necessarily \"informative\". For example, we are working with a corpus of official press releases from the Swiss Federal Council about the Coronavirus disease. We naturally expect tokens such as \"Federal Council\", \"Switzerland\", \"Coronavirus\", \"Federal government\", etc., to appear very often in all press releases. However, these tokens aren't necessarily conveying any \"distinct information\" about a press release's specific content, which may be about various topics such as vaccines, measures to contain the epidemic, testing, etc. We would like to give the words specific to a given press release higher weights so that we can discriminate it from other press releases in the same corpus.  \n",
    "\n",
    "Therefore, we may want to:\n",
    "  \n",
    "* Diminish the importance of widespread words over the entire corpus of documents as they could shadow rarer yet more interesting words.\n",
    "* Focus more on rare words across the corpus, as they could be more informative about the content of individual press releases.\n",
    "\n",
    "This is known as *tf–idf* weighting model, where `tf` stands for term-frequency and `idf` stands for inverse document frequency and is a \"measure\" of a word's \"rarity\" in the corpus. The higher the idf, the \"rarer\" the word in the corpus. In other words, tf-idf model favors words, or terms, that are *frequent* in *few documents*.\n",
    "\n",
    "Tf–idf is calculated as:\n",
    "\n",
    "$$\n",
    "{\\displaystyle \\mathrm {tfidf} (t,d,D)=\\mathrm {tf} (t,d)\\cdot \\mathrm {idf} (t,D)}\n",
    "$$\n",
    "\n",
    "where: \n",
    "  \n",
    "- t : term, \n",
    "- d : document\n",
    "- D : corpus.\n",
    "\n",
    "\n",
    "\n",
    "The tf-idf model multiplies the usual frequency statistics `tf` by a weight factor `idf` in order to give a more informative score to each word. If you want to know more about the tf-idf model, please look at this [wikipedia page](https://en.wikipedia.org/wiki/Tf%E2%80%93idf).\n",
    "\n",
    "Below, we will use the tf-idf weighting model from [scikit-learn](https://scikit-learn.org/stable/modules/generated/sklearn.feature_extraction.text.TfidfVectorizer.html); a library that we will use very often in the following courses. \n",
    "\n",
    "We start by importing the tf-idf model from scikit-learn and creating an instance of it."
   ]
  },
  {
   "cell_type": "code",
   "execution_count": 38,
   "metadata": {},
   "outputs": [],
   "source": [
    "# Import TfidfVectorizer\n",
    "from sklearn.feature_extraction.text import TfidfVectorizer\n",
    "\n",
    "# Create an instance of the tf-idf model\n",
    "tfidf = TfidfVectorizer()"
   ]
  },
  {
   "cell_type": "markdown",
   "metadata": {},
   "source": [
    "Please note that the tf-idf model expects non-tokenized text; using it directly with `preprocessed_press_releases_collocations` would throw an error. This is why below we use the `join()` function to join lists of tokens into single strings."
   ]
  },
  {
   "cell_type": "code",
   "execution_count": 39,
   "metadata": {},
   "outputs": [],
   "source": [
    "# Join lists of tokens into single strings (for each press release)\n",
    "\n",
    "X = [\" \".join([w for w in doc]) for doc in preprocessed_press_releases_collocations]"
   ]
  },
  {
   "cell_type": "markdown",
   "metadata": {},
   "source": [
    "Next, we call the `fit` method of `TfidfVectorizer()` on our text data."
   ]
  },
  {
   "cell_type": "code",
   "execution_count": 40,
   "metadata": {},
   "outputs": [],
   "source": [
    "# Fit model on text data\n",
    "tfidf.fit(X);"
   ]
  },
  {
   "cell_type": "markdown",
   "metadata": {},
   "source": [
    "A couple of things happen once we call the fit method of `TfidfVectorizer()` on our text data.\n",
    "\n",
    "First, the `TfidfVectorizer` model tokenizes texts and builds the *vocabulary*. The vocabulary is the list of unique words in our corpus. We can check which words are part of the vocabulary using the `get_feature_names_out()` method."
   ]
  },
  {
   "cell_type": "code",
   "execution_count": 41,
   "metadata": {},
   "outputs": [
    {
     "name": "stdout",
     "output_type": "stream",
     "text": [
      "Vocabulary length: 3947\n",
      "\n",
      "Show a few words from vocabulary:\n",
      "['000' '07' '11' '128' '16' '19_april' '1_july' '2021' '23' '27_may'\n",
      " '30_people' '480' '5_million' '72' '85' 'able' 'accept' 'accompanying'\n",
      " 'act' 'acute' 'additional' 'adjustment' 'adolescents' 'advantages'\n",
      " 'affects' 'age_16' 'ahead' 'airline' 'allfollowing' 'allowedfrom'\n",
      " 'always' 'amounting' 'announced' 'anyone' 'appeared' 'appointment'\n",
      " 'april_2020' 'armed' 'article' 'assessments' 'assume_cost'\n",
      " 'asymptomatic_persons' 'attention' 'austrian' 'automatically'\n",
      " 'aviation_industry' 'back' 'banned' 'basically' 'beds']\n"
     ]
    }
   ],
   "source": [
    "# Show vocabulary\n",
    "vocabulary = tfidf.get_feature_names_out()\n",
    "\n",
    "# Print vocabulary length\n",
    "print('Vocabulary length: {}\\n'.format(len(vocabulary)))\n",
    "\n",
    "# Show a few words from vocabulary\n",
    "print('Show a few words from vocabulary:')\n",
    "print(vocabulary[0:500:10])"
   ]
  },
  {
   "cell_type": "markdown",
   "metadata": {},
   "source": [
    "In our case, there are 3'947 words in our vocabulary. Once the texts are tokenized, and the vocabulary is established, tf-idf computes word frequencies `tf` and inverse document frequencies `idf`.\n",
    "\n",
    "To transform each sample of text in our corpus into its tf-idf representation, we call the `transform()` method."
   ]
  },
  {
   "cell_type": "code",
   "execution_count": 42,
   "metadata": {},
   "outputs": [
    {
     "name": "stdout",
     "output_type": "stream",
     "text": [
      "(61, 3947)\n"
     ]
    }
   ],
   "source": [
    "# Get tf-idf representation of text data\n",
    "X_tfidf = tfidf.transform(X)\n",
    "print(X_tfidf.shape)"
   ]
  },
  {
   "cell_type": "markdown",
   "metadata": {},
   "source": [
    "The shape of X_tfidf is (61, 3947). Each row corresponds to a text document from the corpus and each column to a word in the vocabulary. \n",
    "\n",
    "We can check what `X_tfidf` looks like using the following code snippet."
   ]
  },
  {
   "cell_type": "code",
   "execution_count": 43,
   "metadata": {},
   "outputs": [
    {
     "data": {
      "text/html": [
       "<div>\n",
       "<style scoped>\n",
       "    .dataframe tbody tr th:only-of-type {\n",
       "        vertical-align: middle;\n",
       "    }\n",
       "\n",
       "    .dataframe tbody tr th {\n",
       "        vertical-align: top;\n",
       "    }\n",
       "\n",
       "    .dataframe thead th {\n",
       "        text-align: right;\n",
       "    }\n",
       "</style>\n",
       "<table border=\"1\" class=\"dataframe\">\n",
       "  <thead>\n",
       "    <tr style=\"text-align: right;\">\n",
       "      <th></th>\n",
       "      <th>000</th>\n",
       "      <th>000_people</th>\n",
       "      <th>01</th>\n",
       "      <th>02</th>\n",
       "      <th>03</th>\n",
       "      <th>04</th>\n",
       "      <th>04_2020</th>\n",
       "      <th>05</th>\n",
       "      <th>05_2020</th>\n",
       "      <th>06</th>\n",
       "      <th>...</th>\n",
       "      <th>young_people</th>\n",
       "      <th>younger</th>\n",
       "      <th>youth</th>\n",
       "      <th>zealand</th>\n",
       "      <th>zero</th>\n",
       "      <th>zones</th>\n",
       "      <th>zoos</th>\n",
       "      <th>zoos_botanical</th>\n",
       "      <th>zoosin</th>\n",
       "      <th>zurich</th>\n",
       "    </tr>\n",
       "  </thead>\n",
       "  <tbody>\n",
       "    <tr>\n",
       "      <th>0</th>\n",
       "      <td>0.000000</td>\n",
       "      <td>0.0</td>\n",
       "      <td>0.0</td>\n",
       "      <td>0.054617</td>\n",
       "      <td>0.000000</td>\n",
       "      <td>0.0</td>\n",
       "      <td>0.0</td>\n",
       "      <td>0.0</td>\n",
       "      <td>0.0</td>\n",
       "      <td>0.0</td>\n",
       "      <td>...</td>\n",
       "      <td>0.0</td>\n",
       "      <td>0.0</td>\n",
       "      <td>0.0</td>\n",
       "      <td>0.0</td>\n",
       "      <td>0.000000</td>\n",
       "      <td>0.0</td>\n",
       "      <td>0.0</td>\n",
       "      <td>0.0</td>\n",
       "      <td>0.0</td>\n",
       "      <td>0.0</td>\n",
       "    </tr>\n",
       "    <tr>\n",
       "      <th>1</th>\n",
       "      <td>0.000000</td>\n",
       "      <td>0.0</td>\n",
       "      <td>0.0</td>\n",
       "      <td>0.000000</td>\n",
       "      <td>0.014843</td>\n",
       "      <td>0.0</td>\n",
       "      <td>0.0</td>\n",
       "      <td>0.0</td>\n",
       "      <td>0.0</td>\n",
       "      <td>0.0</td>\n",
       "      <td>...</td>\n",
       "      <td>0.0</td>\n",
       "      <td>0.0</td>\n",
       "      <td>0.0</td>\n",
       "      <td>0.0</td>\n",
       "      <td>0.000000</td>\n",
       "      <td>0.0</td>\n",
       "      <td>0.0</td>\n",
       "      <td>0.0</td>\n",
       "      <td>0.0</td>\n",
       "      <td>0.0</td>\n",
       "    </tr>\n",
       "    <tr>\n",
       "      <th>2</th>\n",
       "      <td>0.032799</td>\n",
       "      <td>0.0</td>\n",
       "      <td>0.0</td>\n",
       "      <td>0.000000</td>\n",
       "      <td>0.016399</td>\n",
       "      <td>0.0</td>\n",
       "      <td>0.0</td>\n",
       "      <td>0.0</td>\n",
       "      <td>0.0</td>\n",
       "      <td>0.0</td>\n",
       "      <td>...</td>\n",
       "      <td>0.0</td>\n",
       "      <td>0.0</td>\n",
       "      <td>0.0</td>\n",
       "      <td>0.0</td>\n",
       "      <td>0.000000</td>\n",
       "      <td>0.0</td>\n",
       "      <td>0.0</td>\n",
       "      <td>0.0</td>\n",
       "      <td>0.0</td>\n",
       "      <td>0.0</td>\n",
       "    </tr>\n",
       "    <tr>\n",
       "      <th>3</th>\n",
       "      <td>0.000000</td>\n",
       "      <td>0.0</td>\n",
       "      <td>0.0</td>\n",
       "      <td>0.000000</td>\n",
       "      <td>0.035813</td>\n",
       "      <td>0.0</td>\n",
       "      <td>0.0</td>\n",
       "      <td>0.0</td>\n",
       "      <td>0.0</td>\n",
       "      <td>0.0</td>\n",
       "      <td>...</td>\n",
       "      <td>0.0</td>\n",
       "      <td>0.0</td>\n",
       "      <td>0.0</td>\n",
       "      <td>0.0</td>\n",
       "      <td>0.000000</td>\n",
       "      <td>0.0</td>\n",
       "      <td>0.0</td>\n",
       "      <td>0.0</td>\n",
       "      <td>0.0</td>\n",
       "      <td>0.0</td>\n",
       "    </tr>\n",
       "    <tr>\n",
       "      <th>4</th>\n",
       "      <td>0.123561</td>\n",
       "      <td>0.0</td>\n",
       "      <td>0.0</td>\n",
       "      <td>0.000000</td>\n",
       "      <td>0.020593</td>\n",
       "      <td>0.0</td>\n",
       "      <td>0.0</td>\n",
       "      <td>0.0</td>\n",
       "      <td>0.0</td>\n",
       "      <td>0.0</td>\n",
       "      <td>...</td>\n",
       "      <td>0.0</td>\n",
       "      <td>0.0</td>\n",
       "      <td>0.0</td>\n",
       "      <td>0.0</td>\n",
       "      <td>0.064655</td>\n",
       "      <td>0.0</td>\n",
       "      <td>0.0</td>\n",
       "      <td>0.0</td>\n",
       "      <td>0.0</td>\n",
       "      <td>0.0</td>\n",
       "    </tr>\n",
       "  </tbody>\n",
       "</table>\n",
       "<p>5 rows × 3947 columns</p>\n",
       "</div>"
      ],
      "text/plain": [
       "        000  000_people   01        02        03   04  04_2020   05  05_2020  \\\n",
       "0  0.000000         0.0  0.0  0.054617  0.000000  0.0      0.0  0.0      0.0   \n",
       "1  0.000000         0.0  0.0  0.000000  0.014843  0.0      0.0  0.0      0.0   \n",
       "2  0.032799         0.0  0.0  0.000000  0.016399  0.0      0.0  0.0      0.0   \n",
       "3  0.000000         0.0  0.0  0.000000  0.035813  0.0      0.0  0.0      0.0   \n",
       "4  0.123561         0.0  0.0  0.000000  0.020593  0.0      0.0  0.0      0.0   \n",
       "\n",
       "    06  ...  young_people  younger  youth  zealand      zero  zones  zoos  \\\n",
       "0  0.0  ...           0.0      0.0    0.0      0.0  0.000000    0.0   0.0   \n",
       "1  0.0  ...           0.0      0.0    0.0      0.0  0.000000    0.0   0.0   \n",
       "2  0.0  ...           0.0      0.0    0.0      0.0  0.000000    0.0   0.0   \n",
       "3  0.0  ...           0.0      0.0    0.0      0.0  0.000000    0.0   0.0   \n",
       "4  0.0  ...           0.0      0.0    0.0      0.0  0.064655    0.0   0.0   \n",
       "\n",
       "   zoos_botanical  zoosin  zurich  \n",
       "0             0.0     0.0     0.0  \n",
       "1             0.0     0.0     0.0  \n",
       "2             0.0     0.0     0.0  \n",
       "3             0.0     0.0     0.0  \n",
       "4             0.0     0.0     0.0  \n",
       "\n",
       "[5 rows x 3947 columns]"
      ]
     },
     "execution_count": 43,
     "metadata": {},
     "output_type": "execute_result"
    }
   ],
   "source": [
    "df_tfidf = pd.DataFrame(X_tfidf.toarray(),\n",
    "                        columns=vocabulary)\n",
    "df_tfidf.head()"
   ]
  },
  {
   "cell_type": "markdown",
   "metadata": {},
   "source": [
    "The tf-Idf model has converted each document to a list of tf-idf scores. Each row corresponds to a document from the corpus. For example, the first press release is represented by this list of numbers: [0, 0, 0, 0.054617, 0, 0, ...., 0, 0]. Note that tf-idf results in long vectors that are sparse (mostly filled with zeros)."
   ]
  },
  {
   "cell_type": "markdown",
   "metadata": {},
   "source": [
    "### Top words according to tf-idf scores\n",
    "\n",
    "Instead of looking at the topmost frequent words in each press release, we will focus on words with the highest tf-idf scores in each document. Remember, tf-idf favors words that are *frequent* in *few* press releases. We hope that this way, the importance of widespread words across all press releases (such as \"Federal Council\", etc.) will be diminished, letting us focus on other more informative words about the content of individual press releases. \n",
    "\n",
    "Below we plot the top 50 words according to the tf-idf scores."
   ]
  },
  {
   "cell_type": "code",
   "execution_count": 44,
   "metadata": {},
   "outputs": [
    {
     "name": "stdout",
     "output_type": "stream",
     "text": [
      "Printing top words according to tf-idf for document 48.\n"
     ]
    }
   ],
   "source": [
    "# Set number of top words to plot\n",
    "N = 50\n",
    "\n",
    "print('Printing top words according to tf-idf for document {}.'.format(idx))"
   ]
  },
  {
   "cell_type": "code",
   "execution_count": 45,
   "metadata": {},
   "outputs": [
    {
     "data": {
      "text/plain": [
       "array([3579, 3194, 3588, ..., 2581, 2580,    0])"
      ]
     },
     "execution_count": 45,
     "metadata": {},
     "output_type": "execute_result"
    }
   ],
   "source": [
    "# Sort indexes according to tf-idf scores for document idx\n",
    "\n",
    "index_sorted = np.argsort(df_tfidf.iloc[idx,:])[::-1]  # descending order\n",
    "\n",
    "# Print sorted indexes according to tf-idf\n",
    "index_sorted.values"
   ]
  },
  {
   "cell_type": "code",
   "execution_count": 46,
   "metadata": {},
   "outputs": [
    {
     "name": "stdout",
     "output_type": "stream",
     "text": [
      "['test' 'self' 'tests' 'testing' 'companies' 'regular_testing' 'estimated'\n",
      " 'cost' 'testing_strategy' 'sense' 'samples' 'wants' 'pooled'\n",
      " 'asymptomatic_persons' 'local_outbreaks' 'negative_test' 'frequently'\n",
      " 'massively' 'expanding' 'persons' 'symptoms' 'schools' 'free' 'detection'\n",
      " 'form' 'yet' 'parallel' 'reliable' 'available' 'federal_council'\n",
      " 'working' 'confederation_assume' 'expand' 'prevention' 'cost_tests'\n",
      " 'people' 'chf' 'need' 'access' 'result' 'everyone' '15' 'immediately'\n",
      " 'order' 'economic_life' 'billionthe' 'irresponsible' 'snapshot' 'sample'\n",
      " 'everyonesuccess']\n"
     ]
    }
   ],
   "source": [
    "# Sort words in vocabulary according to tf-idf\n",
    "\n",
    "features_sorted = np.array(vocabulary)[index_sorted][0:N]\n",
    "\n",
    "# Print top words according to tf-idf scores\n",
    "print(features_sorted)"
   ]
  },
  {
   "cell_type": "code",
   "execution_count": 47,
   "metadata": {},
   "outputs": [
    {
     "name": "stdout",
     "output_type": "stream",
     "text": [
      "test                    0.301162\n",
      "self                    0.299038\n",
      "tests                   0.255906\n",
      "testing                 0.243577\n",
      "companies               0.176705\n",
      "regular_testing         0.154796\n",
      "estimated               0.138916\n",
      "cost                    0.136359\n",
      "testing_strategy        0.131639\n",
      "sense                   0.122319\n",
      "samples                 0.122319\n",
      "wants                   0.116880\n",
      "pooled                  0.111133\n",
      "asymptomatic_persons    0.111133\n",
      "local_outbreaks         0.103197\n",
      "negative_test           0.097041\n",
      "frequently              0.091739\n",
      "massively               0.091739\n",
      "expanding               0.091739\n",
      "persons                 0.090231\n",
      "symptoms                0.087759\n",
      "schools                 0.085797\n",
      "free                    0.085797\n",
      "detection               0.083350\n",
      "form                    0.077920\n",
      "yet                     0.077920\n",
      "parallel                0.077398\n",
      "reliable                0.077398\n",
      "available               0.077131\n",
      "federal_council         0.075863\n",
      "working                 0.072890\n",
      "confederation_assume    0.072781\n",
      "expand                  0.072781\n",
      "prevention              0.072781\n",
      "cost_tests              0.072781\n",
      "people                  0.069434\n",
      "chf                     0.068678\n",
      "need                    0.066734\n",
      "access                  0.066734\n",
      "result                  0.066734\n",
      "everyone                0.065819\n",
      "15                      0.063281\n",
      "immediately             0.063057\n",
      "order                   0.061895\n",
      "economic_life           0.061159\n",
      "billionthe              0.061159\n",
      "irresponsible           0.061159\n",
      "snapshot                0.061159\n",
      "sample                  0.061159\n",
      "everyonesuccess         0.061159\n",
      "Name: 48, dtype: float64\n"
     ]
    }
   ],
   "source": [
    "# Sort tf-idf scores (descending order)\n",
    "\n",
    "tfidf_weights_sorted = df_tfidf.iloc[idx,:][index_sorted][0:N]\n",
    "print(tfidf_weights_sorted)"
   ]
  },
  {
   "cell_type": "code",
   "execution_count": 48,
   "metadata": {},
   "outputs": [
    {
     "data": {
      "image/png": "[encoded data removed]",
      "text/plain": [
       "<Figure size 1080x216 with 1 Axes>"
      ]
     },
     "metadata": {
      "image/png": {
       "height": 350,
       "width": 897
      },
      "needs_background": "light"
     },
     "output_type": "display_data"
    }
   ],
   "source": [
    "# Plots top words according to tf-idf scores\n",
    "\n",
    "# Barplot and font specifications\n",
    "barplot_specs   = {\"color\": \"mediumpurple\", \"alpha\": 0.7, \"edgecolor\": \"grey\"}\n",
    "title_specs     = {\"fontsize\": 14, \"fontweight\": \"bold\", \"y\": 1.2}\n",
    "suptitle_specs  = {\"fontsize\": 11}\n",
    "label_specs     = {\"fontsize\": 13}\n",
    "\n",
    "plt.figure(figsize=(15,3))\n",
    "\n",
    "plt.bar(x = features_sorted,\n",
    "        height=tfidf_weights_sorted,\n",
    "        **barplot_specs)\n",
    "\n",
    "plt.title('Top words according to tf-idf in document {} - Publication date: {}'.format(idx,df.iloc[idx,1].strftime(\"%d-%m-%Y\")), **title_specs)\n",
    "plt.suptitle(df.iloc[idx,0],**suptitle_specs)\n",
    "plt.ylabel('Tf-Idf weights', **label_specs)\n",
    "plt.xticks(rotation=90)\n",
    "plt.show()"
   ]
  },
  {
   "cell_type": "markdown",
   "metadata": {},
   "source": [
    "Don't hesitate to compare this approach with the topmost frequent words for the same press release. Hopefully, diminishing the importance of widespread words across all documents has helped to focus on rare words that are more informative about the content of individual press releases. You can experiment with both techniques to see which works best in your particular case."
   ]
  }
 ],
 "metadata": {
  "kernelspec": {
   "display_name": "Python 3 (ipykernel)",
   "language": "python",
   "name": "python3"
  },
  "language_info": {
   "codemirror_mode": {
    "name": "ipython",
    "version": 3
   },
   "file_extension": ".py",
   "mimetype": "text/x-python",
   "name": "python",
   "nbconvert_exporter": "python",
   "pygments_lexer": "ipython3",
   "version": "3.9.7"
  }
 },
 "nbformat": 4,
 "nbformat_minor": 4
}
